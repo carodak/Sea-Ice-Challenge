{
 "cells": [
  {
   "cell_type": "markdown",
   "metadata": {
    "id": "RTYxPCym4aG5"
   },
   "source": [
    "Using GPU as it provides speedup\n"
   ]
  },
  {
   "cell_type": "code",
   "execution_count": 1,
   "metadata": {
    "colab": {
     "base_uri": "https://localhost:8080/"
    },
    "executionInfo": {
     "elapsed": 9067,
     "status": "ok",
     "timestamp": 1611520394486,
     "user": {
      "displayName": "Caro Dak",
      "photoUrl": "",
      "userId": "16885130283242488352"
     },
     "user_tz": 300
    },
    "id": "fHbYRsb04ZiM",
    "outputId": "5a1e627d-4dff-4186-be54-d41bf8659109"
   },
   "outputs": [
    {
     "name": "stdout",
     "output_type": "stream",
     "text": [
      "Found GPU at: /device:GPU:0\n"
     ]
    }
   ],
   "source": [
    "#Using GPU as it provides speedup\n",
    "%tensorflow_version 2.x\n",
    "import tensorflow as tf\n",
    "device_name = tf.test.gpu_device_name()\n",
    "if device_name != '/device:GPU:0':\n",
    "  raise SystemError('GPU device not found')\n",
    "print('Found GPU at: {}'.format(device_name))"
   ]
  },
  {
   "cell_type": "markdown",
   "metadata": {
    "id": "vQPl6S685uuv"
   },
   "source": [
    "## MOUNT DRIVE"
   ]
  },
  {
   "cell_type": "markdown",
   "metadata": {
    "id": "YATdG-xS5iBg"
   },
   "source": [
    "Mount drive so we can retrieve the data"
   ]
  },
  {
   "cell_type": "code",
   "execution_count": 32,
   "metadata": {
    "colab": {
     "base_uri": "https://localhost:8080/"
    },
    "executionInfo": {
     "elapsed": 332,
     "status": "ok",
     "timestamp": 1611522773549,
     "user": {
      "displayName": "Caro Dak",
      "photoUrl": "",
      "userId": "16885130283242488352"
     },
     "user_tz": 300
    },
    "id": "mj91nowu5ngs",
    "outputId": "3ef9fb6f-5bce-4202-8e4f-03b4bf7b2012"
   },
   "outputs": [
    {
     "name": "stdout",
     "output_type": "stream",
     "text": [
      "Drive already mounted at /content/drive; to attempt to forcibly remount, call drive.mount(\"/content/drive\", force_remount=True).\n"
     ]
    }
   ],
   "source": [
    "#Mount drive\n",
    "from google.colab import drive\n",
    "#This will prompt for authorization \n",
    "drive.mount('/content/drive')"
   ]
  },
  {
   "cell_type": "code",
   "execution_count": 33,
   "metadata": {
    "colab": {
     "base_uri": "https://localhost:8080/"
    },
    "executionInfo": {
     "elapsed": 901,
     "status": "ok",
     "timestamp": 1611522774725,
     "user": {
      "displayName": "Caro Dak",
      "photoUrl": "",
      "userId": "16885130283242488352"
     },
     "user_tz": 300
    },
    "id": "kkeFgBhg6cGm",
    "outputId": "6c69e38a-e329-4d8e-c1c8-e35ee64793e6"
   },
   "outputs": [
    {
     "name": "stdout",
     "output_type": "stream",
     "text": [
      " Challenge_sea_ice_guidelines.pdf   DRIFT_DATA_TRAIN.csv\n",
      " DRIFT_DATA_TEST.csv\t\t   'Samples DRIFT_DATA_TRAIN.csv'\n"
     ]
    }
   ],
   "source": [
    "# See drive content\n",
    "!ls '/content/drive/My Drive/MLContests/AILaunchLab/data'"
   ]
  },
  {
   "cell_type": "markdown",
   "metadata": {
    "id": "c_Wa4NT7qqpI"
   },
   "source": [
    "## LOAD THE DATA\n"
   ]
  },
  {
   "cell_type": "code",
   "execution_count": 149,
   "metadata": {
    "executionInfo": {
     "elapsed": 332,
     "status": "ok",
     "timestamp": 1611529822602,
     "user": {
      "displayName": "Caro Dak",
      "photoUrl": "",
      "userId": "16885130283242488352"
     },
     "user_tz": 300
    },
    "id": "OM-maq__7SPw"
   },
   "outputs": [],
   "source": [
    "#Load packages\n",
    "import numpy as np\n",
    "import pandas as pd\n",
    "\n",
    "class Dataset:\n",
    "    \"\"\"Class for loading the dataset\"\"\"\n",
    "    def __init__(self):\n",
    "        self._currPath = '/content/drive/My Drive/MLContests/AILaunchLab' #root path of the full the project\n",
    "\n",
    "    def LoadDataframe(self):\n",
    "      \"\"\"Load the data\"\"\"\n",
    "      df1 = pd.read_csv(self._currPath+\"/data/DRIFT_DATA_TRAIN.csv\") #our training/validation set\n",
    "      df2 = pd.read_csv(self._currPath+\"/data/DRIFT_DATA_TEST.csv\") #contest test set\n",
    "      print(\"dataframe: \\n\", df1.head())\n",
    "      self._df1 = df1\n",
    "      self._df2 = df2\n",
    "    \n",
    "    def LoadX(self):\n",
    "        \"\"\"Select the inputs\"\"\"\n",
    "        #We did not select h_CS2SMOS as it was not continious data so we eliminated it\n",
    "        #id_buoy: ​numerical buoy identifier not selected because\n",
    " # 'year', 'month','day','doy'\n",
    "        #print(\"Columns: \", self._df1.columns)\n",
    "        X = self._df1[['x_EASE','y_EASE','u_ERA5',\u001c",
    "\u001d",
    "'v_ERA5','sic_CDR', 'h_cs2smos', 'h_piomas', 'd2c']]\n",
    "        X = X.fillna(0)\n",
    "        print(\"X: \\n\", X.head())\n",
    "        self._X = X\n",
    "        \n",
    "    def LoadY(self):\n",
    "        \"\"\"Load the outputs\"\"\"\n",
    "        Y = self._df1[['u_buoy','v_buoy']]\n",
    "        print(\"Y: \\n\", Y.head())\n",
    "        self._Y = Y\n",
    "    \n",
    "    def LoadXtest(self):\n",
    "        \"\"\"Select the inputs\"\"\"\n",
    "        #We did not select h_CS2SMOS as it was not continious data so we eliminated it\n",
    "        #id_buoy: ​numerical buoy identifier not selected because\n",
    "        # 'year', 'month','day','doy'\n",
    "        #print(\"Columns: \", self._df1.columns)\n",
    "        X_test = self._df2[['x_EASE','y_EASE','u_ERA5',\u001c",
    "\u001d",
    "'v_ERA5','sic_CDR', 'h_cs2smos', 'h_piomas', 'd2c']]\n",
    "        X_test = X_test.fillna(0)\n",
    "        print(\"X_test: \\n\", X_test.head())\n",
    "        self._X_test = X_test\n",
    "        \n",
    "      \n",
    "    def GetX(self):\n",
    "        \"\"\"Get the list of inputs\"\"\"\n",
    "        return self._X\n",
    "\n",
    "    def GetXTest(self):\n",
    "      \"\"\"Get the list of inputs\"\"\"\n",
    "      return self._X_test\n",
    "    \n",
    "    def GetY(self):\n",
    "        \"\"\"Get the array of inputs\"\"\"\n",
    "        return self._Y"
   ]
  },
  {
   "cell_type": "code",
   "execution_count": 135,
   "metadata": {
    "colab": {
     "base_uri": "https://localhost:8080/"
    },
    "executionInfo": {
     "elapsed": 1112,
     "status": "ok",
     "timestamp": 1611526342762,
     "user": {
      "displayName": "Caro Dak",
      "photoUrl": "",
      "userId": "16885130283242488352"
     },
     "user_tz": 300
    },
    "id": "6MX_b6UFiP3W",
    "outputId": "95605360-a528-4114-8415-6e30e1143ca2"
   },
   "outputs": [
    {
     "name": "stdout",
     "output_type": "stream",
     "text": [
      "dataframe: \n",
      "    year  month  day  doy  ...   sic_CDR  h_cs2smos  h_piomas         d2c\n",
      "0  1979      2   18   49  ...  0.990195        0.0  3.189743  522.523298\n",
      "1  1979      2   18   49  ...  0.966372        0.0  2.484009  412.767669\n",
      "2  1979      2   18   49  ...  0.996022        0.0  2.474106  362.547379\n",
      "3  1979      2   18   49  ...  0.982681        0.0  3.740522  381.025629\n",
      "4  1979      2   19   50  ...  0.990302        0.0  3.188522  521.535334\n",
      "\n",
      "[5 rows x 15 columns]\n",
      "X: \n",
      "        x_EASE      y_EASE    u_ERA5  ...  h_cs2smos  h_piomas         d2c\n",
      "0  147.506958  138.582672 -6.704156  ...        0.0  3.189743  522.523298\n",
      "1  146.834778  120.509880 -6.818630  ...        0.0  2.484009  412.767669\n",
      "2  130.993561  129.623672 -8.825469  ...        0.0  2.474106  362.547379\n",
      "3  147.524719  157.382492 -1.079951  ...        0.0  3.740522  381.025629\n",
      "4  147.470963  138.599823 -2.169171  ...        0.0  3.188522  521.535334\n",
      "\n",
      "[5 rows x 8 columns]\n",
      "Y: \n",
      "      u_buoy    v_buoy\n",
      "0 -0.797554  1.114740\n",
      "1  0.643200  0.368754\n",
      "2 -1.162420  0.243717\n",
      "3  0.919766  0.025785\n",
      "4  0.380940  1.243485\n",
      "X_test: \n",
      "        x_EASE      y_EASE    u_ERA5  ...  h_cs2smos  h_piomas         d2c\n",
      "0  197.656311  204.507797  5.998414  ...        0.0  2.535649  375.766965\n",
      "1  197.769897  204.840912 -1.414826  ...        0.0  2.539519  370.636136\n",
      "2  147.548553  157.382889 -4.140861  ...        0.0  3.746467  381.590523\n",
      "3  146.934814  120.546783  2.998362  ...        0.0  2.496566  413.672796\n",
      "4  197.534439  204.845886 -8.538108  ...        0.0  2.530706  376.255493\n",
      "\n",
      "[5 rows x 8 columns]\n"
     ]
    }
   ],
   "source": [
    "#Call methods to load the data\n",
    "from sklearn.model_selection import train_test_split\n",
    "from sklearn.utils import shuffle\n",
    "\n",
    "dataset = Dataset()\n",
    "dataset.LoadDataframe()\n",
    "dataset.LoadX()\n",
    "dataset.LoadY()\n",
    "dataset.LoadXtest()"
   ]
  },
  {
   "cell_type": "markdown",
   "metadata": {
    "id": "dmgLYZ2IuDMU"
   },
   "source": [
    "## Data visualisation"
   ]
  },
  {
   "cell_type": "code",
   "execution_count": 114,
   "metadata": {
    "colab": {
     "base_uri": "https://localhost:8080/",
     "height": 603
    },
    "executionInfo": {
     "elapsed": 585,
     "status": "ok",
     "timestamp": 1611525154226,
     "user": {
      "displayName": "Caro Dak",
      "photoUrl": "",
      "userId": "16885130283242488352"
     },
     "user_tz": 300
    },
    "id": "5Z9i5POvtlZB",
    "outputId": "a5e7d35a-b30a-4661-9195-4455010a69f8"
   },
   "outputs": [
    {
     "data": {
      "text/plain": [
       "<matplotlib.axes._subplots.AxesSubplot at 0x7fda994a3828>"
      ]
     },
     "execution_count": 114,
     "metadata": {
      "tags": []
     },
     "output_type": "execute_result"
    },
    {
     "data": {
      "image/png": "[encoded data removed]",
      "text/plain": [
       "<Figure size 648x648 with 2 Axes>"
      ]
     },
     "metadata": {
      "needs_background": "light",
      "tags": []
     },
     "output_type": "display_data"
    }
   ],
   "source": [
    "#Plot the heatmap, see the correlation between the data\n",
    "import seaborn as sns\n",
    "import matplotlib.pyplot as plt\n",
    "%matplotlib inline\n",
    "#Data Visualization of DRIFT DATA TRAIN\n",
    "#Building the Correlation matrix\n",
    "f, ax = plt.subplots(1, figsize=(9, 9))\n",
    "sns.heatmap(dataset.GetX().corr())"
   ]
  },
  {
   "cell_type": "markdown",
   "metadata": {
    "id": "lfn7u7DquXid"
   },
   "source": [
    "Feature normalization: algorithms perform better when numerical input variables are scaled to a standard range"
   ]
  },
  {
   "cell_type": "markdown",
   "metadata": {
    "id": "TR1PTQshrfTn"
   },
   "source": [
    "Shuffle the data"
   ]
  },
  {
   "cell_type": "code",
   "execution_count": 120,
   "metadata": {
    "colab": {
     "base_uri": "https://localhost:8080/"
    },
    "executionInfo": {
     "elapsed": 496,
     "status": "ok",
     "timestamp": 1611525313895,
     "user": {
      "displayName": "Caro Dak",
      "photoUrl": "",
      "userId": "16885130283242488352"
     },
     "user_tz": 300
    },
    "id": "MbUKUW6LrOC8",
    "outputId": "37dfe56c-e896-4058-aed5-cda6a165596f"
   },
   "outputs": [
    {
     "name": "stdout",
     "output_type": "stream",
     "text": [
      "(339478, 8)\n",
      "(339478, 2)\n"
     ]
    }
   ],
   "source": [
    "#SHUFFLE the data before cross-validating\n",
    "#We will perform cross-validation so we don't need to split the data\n",
    "X = np.array(X_scaled)\n",
    "Y = np.array(dataset.GetY())\n",
    "X, Y = shuffle(X, Y)\n",
    "\n",
    "print(X.shape)\n",
    "print(Y.shape)"
   ]
  },
  {
   "cell_type": "markdown",
   "metadata": {
    "id": "ziFrQYPSrnBx"
   },
   "source": [
    "## TRAIN THE MODEL \n",
    "and perform Cross validation to have first results"
   ]
  },
  {
   "cell_type": "code",
   "execution_count": 121,
   "metadata": {
    "executionInfo": {
     "elapsed": 321,
     "status": "ok",
     "timestamp": 1611525316068,
     "user": {
      "displayName": "Caro Dak",
      "photoUrl": "",
      "userId": "16885130283242488352"
     },
     "user_tz": 300
    },
    "id": "oanLnwPr5KgL"
   },
   "outputs": [],
   "source": [
    "#Import useful methods\n",
    "from sklearn.model_selection import cross_val_score, GridSearchCV\n",
    "from sklearn.ensemble import RandomForestRegressor\n",
    "from sklearn.metrics import mean_squared_error, make_scorer\n",
    "from sklearn.pipeline import Pipeline\n",
    "from sklearn.decomposition import PCA\n",
    "from sklearn.linear_model import LinearRegression, Ridge\n",
    "from sklearn.preprocessing import MinMaxScaler"
   ]
  },
  {
   "cell_type": "code",
   "execution_count": 122,
   "metadata": {
    "executionInfo": {
     "elapsed": 222,
     "status": "ok",
     "timestamp": 1611525316637,
     "user": {
      "displayName": "Caro Dak",
      "photoUrl": "",
      "userId": "16885130283242488352"
     },
     "user_tz": 300
    },
    "id": "Q5-AFm_kQYx2"
   },
   "outputs": [],
   "source": [
    "# Perform Linear Reg with Ridge L2reg\n",
    "\n",
    "def LinearRegModel(X,Y):\n",
    "  pca = PCA(n_components=8)\n",
    "  mse = make_scorer(mean_squared_error)\n",
    "  regressor = Ridge(alpha=0.1)\n",
    "  pipe = Pipeline(steps=[('scaler', MinMaxScaler()), ('pca', pca), ('regressor', regressor)])\n",
    "  scores = cross_val_score(pipe, X, Y, cv=5, scoring=mse)\n",
    "  print(scores)\n",
    "  print(scores.mean())"
   ]
  },
  {
   "cell_type": "code",
   "execution_count": 123,
   "metadata": {
    "colab": {
     "base_uri": "https://localhost:8080/"
    },
    "executionInfo": {
     "elapsed": 1320,
     "status": "ok",
     "timestamp": 1611525319190,
     "user": {
      "displayName": "Caro Dak",
      "photoUrl": "",
      "userId": "16885130283242488352"
     },
     "user_tz": 300
    },
    "id": "LB-h1UKzQq0m",
    "outputId": "0aeb7eb5-0764-4adb-c3e3-0bf43c640e89"
   },
   "outputs": [
    {
     "name": "stdout",
     "output_type": "stream",
     "text": [
      "[26.60211922 27.06653085 27.12948669 26.37437235 26.82954603]\n",
      "26.800411028111927\n"
     ]
    }
   ],
   "source": [
    "LinearRegModel(X,Y)"
   ]
  },
  {
   "cell_type": "code",
   "execution_count": 138,
   "metadata": {
    "executionInfo": {
     "elapsed": 359,
     "status": "ok",
     "timestamp": 1611526376636,
     "user": {
      "displayName": "Caro Dak",
      "photoUrl": "",
      "userId": "16885130283242488352"
     },
     "user_tz": 300
    },
    "id": "-vKa1CEYz6TB"
   },
   "outputs": [],
   "source": [
    "def RandomForestModel(X,Y):\n",
    "  \n",
    "  # Define a pipeline to search for the best combination of PCA truncation\n",
    "  # and classifier regularization.\n",
    "\n",
    "  scaler = MinMaxScaler()\n",
    "  pca = PCA()\n",
    "  rfg = RandomForestRegressor()\n",
    "\n",
    "  pipe = Pipeline(steps=[('scaler', scaler), ('pca', pca), ('randomforest', rfg)])\n",
    "\n",
    "  param_grid = {\n",
    "      'pca__n_components': [8], #we tried 3, 5, 7, 8, 9, 10 and 9 gave the best score\n",
    "      'randomforest__n_estimators' : [50], #the more n_estimators, the better but it takes ressources, we tried 3, 5, 7, 10, 50, 100\n",
    "      'randomforest__max_features' : [\"sqrt\"], #We chose sqrt because it was faster to compute, we tried: 'auto', 'sqrt', 'log'\n",
    "  }\n",
    "\n",
    "  mse = make_scorer(mean_squared_error)\n",
    "  clf = GridSearchCV(pipe, param_grid, scoring=mse, cv=5, return_train_score=True, verbose=10)\n",
    "  clf.fit(X, Y)\n",
    "\n",
    "  #view the best param\n",
    "  print(clf.best_params_)\n",
    "\n",
    "  return clf, scaler, pca"
   ]
  },
  {
   "cell_type": "code",
   "execution_count": 140,
   "metadata": {
    "colab": {
     "base_uri": "https://localhost:8080/"
    },
    "executionInfo": {
     "elapsed": 320153,
     "status": "ok",
     "timestamp": 1611526719946,
     "user": {
      "displayName": "Caro Dak",
      "photoUrl": "",
      "userId": "16885130283242488352"
     },
     "user_tz": 300
    },
    "id": "zWLQeFT_6FeR",
    "outputId": "567fc05d-92f2-458c-c37d-660632eeb568"
   },
   "outputs": [
    {
     "name": "stdout",
     "output_type": "stream",
     "text": [
      "Fitting 5 folds for each of 1 candidates, totalling 5 fits\n",
      "[CV] pca__n_components=8, randomforest__max_features=sqrt, randomforest__n_estimators=50 \n"
     ]
    },
    {
     "name": "stderr",
     "output_type": "stream",
     "text": [
      "[Parallel(n_jobs=1)]: Using backend SequentialBackend with 1 concurrent workers.\n"
     ]
    },
    {
     "name": "stdout",
     "output_type": "stream",
     "text": [
      "[CV]  pca__n_components=8, randomforest__max_features=sqrt, randomforest__n_estimators=50, score=(train=2.330, test=15.945), total=  47.4s\n",
      "[CV] pca__n_components=8, randomforest__max_features=sqrt, randomforest__n_estimators=50 \n"
     ]
    },
    {
     "name": "stderr",
     "output_type": "stream",
     "text": [
      "[Parallel(n_jobs=1)]: Done   1 out of   1 | elapsed:   53.5s remaining:    0.0s\n"
     ]
    },
    {
     "name": "stdout",
     "output_type": "stream",
     "text": [
      "[CV]  pca__n_components=8, randomforest__max_features=sqrt, randomforest__n_estimators=50, score=(train=2.327, test=16.189), total=  46.8s\n",
      "[CV] pca__n_components=8, randomforest__max_features=sqrt, randomforest__n_estimators=50 \n"
     ]
    },
    {
     "name": "stderr",
     "output_type": "stream",
     "text": [
      "[Parallel(n_jobs=1)]: Done   2 out of   2 | elapsed:  1.8min remaining:    0.0s\n"
     ]
    },
    {
     "name": "stdout",
     "output_type": "stream",
     "text": [
      "[CV]  pca__n_components=8, randomforest__max_features=sqrt, randomforest__n_estimators=50, score=(train=2.326, test=16.168), total=  47.0s\n",
      "[CV] pca__n_components=8, randomforest__max_features=sqrt, randomforest__n_estimators=50 \n"
     ]
    },
    {
     "name": "stderr",
     "output_type": "stream",
     "text": [
      "[Parallel(n_jobs=1)]: Done   3 out of   3 | elapsed:  2.7min remaining:    0.0s\n"
     ]
    },
    {
     "name": "stdout",
     "output_type": "stream",
     "text": [
      "[CV]  pca__n_components=8, randomforest__max_features=sqrt, randomforest__n_estimators=50, score=(train=2.349, test=15.591), total=  46.6s\n",
      "[CV] pca__n_components=8, randomforest__max_features=sqrt, randomforest__n_estimators=50 \n"
     ]
    },
    {
     "name": "stderr",
     "output_type": "stream",
     "text": [
      "[Parallel(n_jobs=1)]: Done   4 out of   4 | elapsed:  3.5min remaining:    0.0s\n"
     ]
    },
    {
     "name": "stdout",
     "output_type": "stream",
     "text": [
      "[CV]  pca__n_components=8, randomforest__max_features=sqrt, randomforest__n_estimators=50, score=(train=2.339, test=16.160), total=  46.1s\n"
     ]
    },
    {
     "name": "stderr",
     "output_type": "stream",
     "text": [
      "[Parallel(n_jobs=1)]: Done   5 out of   5 | elapsed:  4.4min remaining:    0.0s\n",
      "[Parallel(n_jobs=1)]: Done   5 out of   5 | elapsed:  4.4min finished\n"
     ]
    },
    {
     "name": "stdout",
     "output_type": "stream",
     "text": [
      "{'pca__n_components': 8, 'randomforest__max_features': 'sqrt', 'randomforest__n_estimators': 50}\n"
     ]
    }
   ],
   "source": [
    "rf, scaler1, pca1 = RandomForestModel(X,Y)"
   ]
  },
  {
   "cell_type": "code",
   "execution_count": 30,
   "metadata": {
    "executionInfo": {
     "elapsed": 236,
     "status": "ok",
     "timestamp": 1611521079883,
     "user": {
      "displayName": "Caro Dak",
      "photoUrl": "",
      "userId": "16885130283242488352"
     },
     "user_tz": 300
    },
    "id": "MANmhLCuGOSm"
   },
   "outputs": [],
   "source": [
    "from sklearn.neural_network import MLPRegressor\n",
    "def MLPModel(X,Y):\n",
    "  pca = PCA(n_components=9)\n",
    "  mse = make_scorer(mean_squared_error)\n",
    "  regressor = MLPRegressor(random_state=1)\n",
    "  pipe = Pipeline(steps=[('scaler', MinMaxScaler()), ('pca', pca), ('regressor', regressor)])\n",
    "\n",
    "  scores = cross_val_score(pipe, X, Y, cv=5, scoring=mse, verbose=10)\n",
    "  print(scores)\n",
    "  print(scores.mean())"
   ]
  },
  {
   "cell_type": "code",
   "execution_count": 31,
   "metadata": {
    "colab": {
     "base_uri": "https://localhost:8080/"
    },
    "executionInfo": {
     "elapsed": 815076,
     "status": "ok",
     "timestamp": 1611521896418,
     "user": {
      "displayName": "Caro Dak",
      "photoUrl": "",
      "userId": "16885130283242488352"
     },
     "user_tz": 300
    },
    "id": "ST0DRCtsHdTx",
    "outputId": "be3e2742-ce6c-4416-e408-9c61f45505c3"
   },
   "outputs": [
    {
     "name": "stderr",
     "output_type": "stream",
     "text": [
      "[Parallel(n_jobs=1)]: Using backend SequentialBackend with 1 concurrent workers.\n"
     ]
    },
    {
     "name": "stdout",
     "output_type": "stream",
     "text": [
      "[CV]  ................................................................\n"
     ]
    },
    {
     "name": "stderr",
     "output_type": "stream",
     "text": [
      "/usr/local/lib/python3.6/dist-packages/sklearn/neural_network/_multilayer_perceptron.py:571: ConvergenceWarning: Stochastic Optimizer: Maximum iterations (200) reached and the optimization hasn't converged yet.\n",
      "  % self.max_iter, ConvergenceWarning)\n",
      "[Parallel(n_jobs=1)]: Done   1 out of   1 | elapsed:  2.7min remaining:    0.0s\n"
     ]
    },
    {
     "name": "stdout",
     "output_type": "stream",
     "text": [
      "[CV] ................................... , score=19.760, total= 2.7min\n",
      "[CV]  ................................................................\n"
     ]
    },
    {
     "name": "stderr",
     "output_type": "stream",
     "text": [
      "/usr/local/lib/python3.6/dist-packages/sklearn/neural_network/_multilayer_perceptron.py:571: ConvergenceWarning: Stochastic Optimizer: Maximum iterations (200) reached and the optimization hasn't converged yet.\n",
      "  % self.max_iter, ConvergenceWarning)\n",
      "[Parallel(n_jobs=1)]: Done   2 out of   2 | elapsed:  5.4min remaining:    0.0s\n"
     ]
    },
    {
     "name": "stdout",
     "output_type": "stream",
     "text": [
      "[CV] ................................... , score=19.055, total= 2.7min\n",
      "[CV]  ................................................................\n"
     ]
    },
    {
     "name": "stderr",
     "output_type": "stream",
     "text": [
      "/usr/local/lib/python3.6/dist-packages/sklearn/neural_network/_multilayer_perceptron.py:571: ConvergenceWarning: Stochastic Optimizer: Maximum iterations (200) reached and the optimization hasn't converged yet.\n",
      "  % self.max_iter, ConvergenceWarning)\n",
      "[Parallel(n_jobs=1)]: Done   3 out of   3 | elapsed:  8.1min remaining:    0.0s\n"
     ]
    },
    {
     "name": "stdout",
     "output_type": "stream",
     "text": [
      "[CV] ................................... , score=19.431, total= 2.8min\n",
      "[CV]  ................................................................\n"
     ]
    },
    {
     "name": "stderr",
     "output_type": "stream",
     "text": [
      "/usr/local/lib/python3.6/dist-packages/sklearn/neural_network/_multilayer_perceptron.py:571: ConvergenceWarning: Stochastic Optimizer: Maximum iterations (200) reached and the optimization hasn't converged yet.\n",
      "  % self.max_iter, ConvergenceWarning)\n",
      "[Parallel(n_jobs=1)]: Done   4 out of   4 | elapsed: 10.8min remaining:    0.0s\n"
     ]
    },
    {
     "name": "stdout",
     "output_type": "stream",
     "text": [
      "[CV] ................................... , score=19.454, total= 2.6min\n",
      "[CV]  ................................................................\n",
      "[CV] ................................... , score=19.787, total= 2.8min\n",
      "[19.75995016 19.05525219 19.43104491 19.45374096 19.78749355]\n",
      "19.49749635408221\n"
     ]
    },
    {
     "name": "stderr",
     "output_type": "stream",
     "text": [
      "/usr/local/lib/python3.6/dist-packages/sklearn/neural_network/_multilayer_perceptron.py:571: ConvergenceWarning: Stochastic Optimizer: Maximum iterations (200) reached and the optimization hasn't converged yet.\n",
      "  % self.max_iter, ConvergenceWarning)\n",
      "[Parallel(n_jobs=1)]: Done   5 out of   5 | elapsed: 13.6min remaining:    0.0s\n",
      "[Parallel(n_jobs=1)]: Done   5 out of   5 | elapsed: 13.6min finished\n"
     ]
    }
   ],
   "source": [
    "MLPModel(X,Y)"
   ]
  },
  {
   "cell_type": "code",
   "execution_count": 156,
   "metadata": {
    "colab": {
     "base_uri": "https://localhost:8080/"
    },
    "executionInfo": {
     "elapsed": 1061,
     "status": "ok",
     "timestamp": 1611530012000,
     "user": {
      "displayName": "Caro Dak",
      "photoUrl": "",
      "userId": "16885130283242488352"
     },
     "user_tz": 300
    },
    "id": "Y-_-lkCGXUPq",
    "outputId": "6355c365-30ad-4bcc-bc7e-ad5ad09dc2a4"
   },
   "outputs": [
    {
     "name": "stdout",
     "output_type": "stream",
     "text": [
      "[[0.33688383 0.7764985  0.54140599 ... 0.47546818 0.17935169 0.19230835]\n",
      " [0.33231362 0.77777122 0.54167553 ... 0.47585863 0.17207761 0.21395648]\n",
      " [0.3420439  0.47013373 0.43558402 ... 0.65347264 0.21345086 0.23441121]\n",
      " ...\n",
      " [0.02306603 0.18762734 0.53964384 ... 0.30049307 0.14948475 0.09218166]\n",
      " [0.4729772  0.65407803 0.56291234 ... 0.27798495 0.35882373 0.16847762]\n",
      " [0.65468835 0.65195736 0.51399892 ... 0.29347418 0.36781761 0.19373126]]\n",
      "(84870, 2)\n"
     ]
    }
   ],
   "source": [
    "X_test = dataset.GetXTest()\n",
    "X_test = pca1.fit_transform(X_test)\n",
    "X_test =  scaler1.fit_transform(X_test)\n",
    "print(X_test)\n",
    "predictions = rf.predict(X_test)\n",
    "print(predictions.shape)\n",
    "np.savetxt(\"/content/drive/My Drive/MLContests/AILaunchLab/predictions.csv\", predictions, delimiter=\",\",fmt='%s')"
   ]
  }
 ],
 "metadata": {
  "accelerator": "GPU",
  "colab": {
   "authorship_tag": "ABX9TyNr5x0AS136FMfqU9AjpHMo",
   "collapsed_sections": [],
   "name": "Sea Ice Challenge-Team Earth Rescuers.ipynb",
   "provenance": []
  },
  "kernelspec": {
   "display_name": "Python 3",
   "language": "python",
   "name": "python3"
  },
  "language_info": {
   "codemirror_mode": {
    "name": "ipython",
    "version": 3
   },
   "file_extension": ".py",
   "mimetype": "text/x-python",
   "name": "python",
   "nbconvert_exporter": "python",
   "pygments_lexer": "ipython3",
   "version": "3.7.4"
  }
 },
 "nbformat": 4,
 "nbformat_minor": 1
}
