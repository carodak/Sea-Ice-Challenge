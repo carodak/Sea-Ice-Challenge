{
 "cells": [
  {
   "cell_type": "code",
   "execution_count": 125,
   "metadata": {},
   "outputs": [],
   "source": [
    "#importing the libraries\n",
    "import numpy as np\n",
    "import matplotlib.pyplot as plt\n",
    "import pandas as pd\n",
    "import seaborn as sns\n",
    "%matplotlib inline"
   ]
  },
  {
   "cell_type": "code",
   "execution_count": 126,
   "metadata": {},
   "outputs": [],
   "source": [
    "#importing the dataset and extracting the independent and dependent variables\n",
    "sea_ice_train = pd.read_csv('/home/abokye/Desktop/ai/data-sea-ice/DRIFT_DATA_TRAIN.csv')\n",
    "sea_ice_test = pd.read_csv('/home/abokye/Desktop/ai/data-sea-ice/DRIFT_DATA_TEST.csv')"
   ]
  },
  {
   "cell_type": "code",
   "execution_count": 127,
   "metadata": {},
   "outputs": [
    {
     "data": {
      "text/html": [
       "<div>\n",
       "<style scoped>\n",
       "    .dataframe tbody tr th:only-of-type {\n",
       "        vertical-align: middle;\n",
       "    }\n",
       "\n",
       "    .dataframe tbody tr th {\n",
       "        vertical-align: top;\n",
       "    }\n",
       "\n",
       "    .dataframe thead th {\n",
       "        text-align: right;\n",
       "    }\n",
       "</style>\n",
       "<table border=\"1\" class=\"dataframe\">\n",
       "  <thead>\n",
       "    <tr style=\"text-align: right;\">\n",
       "      <th></th>\n",
       "      <th>year</th>\n",
       "      <th>month</th>\n",
       "      <th>day</th>\n",
       "      <th>doy</th>\n",
       "      <th>x_EASE</th>\n",
       "      <th>y_EASE</th>\n",
       "      <th>u_buoy</th>\n",
       "      <th>v_buoy</th>\n",
       "      <th>id_buoy</th>\n",
       "      <th>u_ERA5</th>\n",
       "      <th>v_ERA5</th>\n",
       "      <th>sic_CDR</th>\n",
       "      <th>h_cs2smos</th>\n",
       "      <th>h_piomas</th>\n",
       "      <th>d2c</th>\n",
       "    </tr>\n",
       "  </thead>\n",
       "  <tbody>\n",
       "    <tr>\n",
       "      <th>0</th>\n",
       "      <td>1979</td>\n",
       "      <td>2</td>\n",
       "      <td>18</td>\n",
       "      <td>49</td>\n",
       "      <td>147.506958</td>\n",
       "      <td>138.582672</td>\n",
       "      <td>-0.797554</td>\n",
       "      <td>1.114740</td>\n",
       "      <td>1906</td>\n",
       "      <td>-6.704156</td>\n",
       "      <td>-0.321260</td>\n",
       "      <td>0.990195</td>\n",
       "      <td>NaN</td>\n",
       "      <td>3.189743</td>\n",
       "      <td>522.523298</td>\n",
       "    </tr>\n",
       "    <tr>\n",
       "      <th>1</th>\n",
       "      <td>1979</td>\n",
       "      <td>2</td>\n",
       "      <td>18</td>\n",
       "      <td>49</td>\n",
       "      <td>146.834778</td>\n",
       "      <td>120.509880</td>\n",
       "      <td>0.643200</td>\n",
       "      <td>0.368754</td>\n",
       "      <td>1913</td>\n",
       "      <td>-6.818630</td>\n",
       "      <td>-0.674205</td>\n",
       "      <td>0.966372</td>\n",
       "      <td>NaN</td>\n",
       "      <td>2.484009</td>\n",
       "      <td>412.767669</td>\n",
       "    </tr>\n",
       "    <tr>\n",
       "      <th>2</th>\n",
       "      <td>1979</td>\n",
       "      <td>2</td>\n",
       "      <td>18</td>\n",
       "      <td>49</td>\n",
       "      <td>130.993561</td>\n",
       "      <td>129.623672</td>\n",
       "      <td>-1.162420</td>\n",
       "      <td>0.243717</td>\n",
       "      <td>1914</td>\n",
       "      <td>-8.825469</td>\n",
       "      <td>1.123955</td>\n",
       "      <td>0.996022</td>\n",
       "      <td>NaN</td>\n",
       "      <td>2.474106</td>\n",
       "      <td>362.547379</td>\n",
       "    </tr>\n",
       "    <tr>\n",
       "      <th>3</th>\n",
       "      <td>1979</td>\n",
       "      <td>2</td>\n",
       "      <td>18</td>\n",
       "      <td>49</td>\n",
       "      <td>147.524719</td>\n",
       "      <td>157.382492</td>\n",
       "      <td>0.919766</td>\n",
       "      <td>0.025784</td>\n",
       "      <td>1918</td>\n",
       "      <td>-1.079951</td>\n",
       "      <td>-1.035410</td>\n",
       "      <td>0.982681</td>\n",
       "      <td>NaN</td>\n",
       "      <td>3.740522</td>\n",
       "      <td>381.025629</td>\n",
       "    </tr>\n",
       "    <tr>\n",
       "      <th>4</th>\n",
       "      <td>1979</td>\n",
       "      <td>2</td>\n",
       "      <td>19</td>\n",
       "      <td>50</td>\n",
       "      <td>147.470963</td>\n",
       "      <td>138.599823</td>\n",
       "      <td>0.380940</td>\n",
       "      <td>1.243485</td>\n",
       "      <td>1906</td>\n",
       "      <td>-2.169171</td>\n",
       "      <td>2.537787</td>\n",
       "      <td>0.990302</td>\n",
       "      <td>NaN</td>\n",
       "      <td>3.188522</td>\n",
       "      <td>521.535334</td>\n",
       "    </tr>\n",
       "  </tbody>\n",
       "</table>\n",
       "</div>"
      ],
      "text/plain": [
       "   year  month  day  doy      x_EASE      y_EASE    u_buoy    v_buoy  id_buoy  \\\n",
       "0  1979      2   18   49  147.506958  138.582672 -0.797554  1.114740     1906   \n",
       "1  1979      2   18   49  146.834778  120.509880  0.643200  0.368754     1913   \n",
       "2  1979      2   18   49  130.993561  129.623672 -1.162420  0.243717     1914   \n",
       "3  1979      2   18   49  147.524719  157.382492  0.919766  0.025784     1918   \n",
       "4  1979      2   19   50  147.470963  138.599823  0.380940  1.243485     1906   \n",
       "\n",
       "     u_ERA5    v_ERA5   sic_CDR  h_cs2smos  h_piomas         d2c  \n",
       "0 -6.704156 -0.321260  0.990195        NaN  3.189743  522.523298  \n",
       "1 -6.818630 -0.674205  0.966372        NaN  2.484009  412.767669  \n",
       "2 -8.825469  1.123955  0.996022        NaN  2.474106  362.547379  \n",
       "3 -1.079951 -1.035410  0.982681        NaN  3.740522  381.025629  \n",
       "4 -2.169171  2.537787  0.990302        NaN  3.188522  521.535334  "
      ]
     },
     "execution_count": 127,
     "metadata": {},
     "output_type": "execute_result"
    }
   ],
   "source": [
    "# display the content of DRIFT DATA TRAIN\n",
    "sea_ice_train.head()"
   ]
  },
  {
   "cell_type": "code",
   "execution_count": 128,
   "metadata": {},
   "outputs": [
    {
     "data": {
      "text/html": [
       "<div>\n",
       "<style scoped>\n",
       "    .dataframe tbody tr th:only-of-type {\n",
       "        vertical-align: middle;\n",
       "    }\n",
       "\n",
       "    .dataframe tbody tr th {\n",
       "        vertical-align: top;\n",
       "    }\n",
       "\n",
       "    .dataframe thead th {\n",
       "        text-align: right;\n",
       "    }\n",
       "</style>\n",
       "<table border=\"1\" class=\"dataframe\">\n",
       "  <thead>\n",
       "    <tr style=\"text-align: right;\">\n",
       "      <th></th>\n",
       "      <th>year</th>\n",
       "      <th>month</th>\n",
       "      <th>day</th>\n",
       "      <th>doy</th>\n",
       "      <th>x_EASE</th>\n",
       "      <th>y_EASE</th>\n",
       "      <th>u_buoy</th>\n",
       "      <th>v_buoy</th>\n",
       "      <th>id_buoy</th>\n",
       "      <th>u_ERA5</th>\n",
       "      <th>v_ERA5</th>\n",
       "      <th>sic_CDR</th>\n",
       "      <th>h_cs2smos</th>\n",
       "      <th>h_piomas</th>\n",
       "      <th>d2c</th>\n",
       "    </tr>\n",
       "  </thead>\n",
       "  <tbody>\n",
       "    <tr>\n",
       "      <th>0</th>\n",
       "      <td>1979</td>\n",
       "      <td>2</td>\n",
       "      <td>18</td>\n",
       "      <td>49</td>\n",
       "      <td>197.656311</td>\n",
       "      <td>204.507797</td>\n",
       "      <td>NaN</td>\n",
       "      <td>NaN</td>\n",
       "      <td>NaN</td>\n",
       "      <td>5.998414</td>\n",
       "      <td>3.617303</td>\n",
       "      <td>0.987723</td>\n",
       "      <td>NaN</td>\n",
       "      <td>2.535649</td>\n",
       "      <td>375.766965</td>\n",
       "    </tr>\n",
       "    <tr>\n",
       "      <th>1</th>\n",
       "      <td>1979</td>\n",
       "      <td>2</td>\n",
       "      <td>19</td>\n",
       "      <td>50</td>\n",
       "      <td>197.769897</td>\n",
       "      <td>204.840912</td>\n",
       "      <td>NaN</td>\n",
       "      <td>NaN</td>\n",
       "      <td>NaN</td>\n",
       "      <td>-1.414826</td>\n",
       "      <td>-0.201038</td>\n",
       "      <td>0.964051</td>\n",
       "      <td>NaN</td>\n",
       "      <td>2.539519</td>\n",
       "      <td>370.636136</td>\n",
       "    </tr>\n",
       "    <tr>\n",
       "      <th>2</th>\n",
       "      <td>1979</td>\n",
       "      <td>2</td>\n",
       "      <td>19</td>\n",
       "      <td>50</td>\n",
       "      <td>147.548553</td>\n",
       "      <td>157.382889</td>\n",
       "      <td>NaN</td>\n",
       "      <td>NaN</td>\n",
       "      <td>NaN</td>\n",
       "      <td>-4.140861</td>\n",
       "      <td>3.038851</td>\n",
       "      <td>1.000000</td>\n",
       "      <td>NaN</td>\n",
       "      <td>3.746467</td>\n",
       "      <td>381.590523</td>\n",
       "    </tr>\n",
       "    <tr>\n",
       "      <th>3</th>\n",
       "      <td>1979</td>\n",
       "      <td>2</td>\n",
       "      <td>20</td>\n",
       "      <td>51</td>\n",
       "      <td>146.934814</td>\n",
       "      <td>120.546783</td>\n",
       "      <td>NaN</td>\n",
       "      <td>NaN</td>\n",
       "      <td>NaN</td>\n",
       "      <td>2.998362</td>\n",
       "      <td>4.055094</td>\n",
       "      <td>1.000000</td>\n",
       "      <td>NaN</td>\n",
       "      <td>2.496566</td>\n",
       "      <td>413.672796</td>\n",
       "    </tr>\n",
       "    <tr>\n",
       "      <th>4</th>\n",
       "      <td>1979</td>\n",
       "      <td>2</td>\n",
       "      <td>21</td>\n",
       "      <td>52</td>\n",
       "      <td>197.534439</td>\n",
       "      <td>204.845886</td>\n",
       "      <td>NaN</td>\n",
       "      <td>NaN</td>\n",
       "      <td>NaN</td>\n",
       "      <td>-8.538108</td>\n",
       "      <td>4.243983</td>\n",
       "      <td>0.978987</td>\n",
       "      <td>NaN</td>\n",
       "      <td>2.530706</td>\n",
       "      <td>376.255493</td>\n",
       "    </tr>\n",
       "  </tbody>\n",
       "</table>\n",
       "</div>"
      ],
      "text/plain": [
       "   year  month  day  doy      x_EASE      y_EASE  u_buoy  v_buoy  id_buoy  \\\n",
       "0  1979      2   18   49  197.656311  204.507797     NaN     NaN      NaN   \n",
       "1  1979      2   19   50  197.769897  204.840912     NaN     NaN      NaN   \n",
       "2  1979      2   19   50  147.548553  157.382889     NaN     NaN      NaN   \n",
       "3  1979      2   20   51  146.934814  120.546783     NaN     NaN      NaN   \n",
       "4  1979      2   21   52  197.534439  204.845886     NaN     NaN      NaN   \n",
       "\n",
       "     u_ERA5    v_ERA5   sic_CDR  h_cs2smos  h_piomas         d2c  \n",
       "0  5.998414  3.617303  0.987723        NaN  2.535649  375.766965  \n",
       "1 -1.414826 -0.201038  0.964051        NaN  2.539519  370.636136  \n",
       "2 -4.140861  3.038851  1.000000        NaN  3.746467  381.590523  \n",
       "3  2.998362  4.055094  1.000000        NaN  2.496566  413.672796  \n",
       "4 -8.538108  4.243983  0.978987        NaN  2.530706  376.255493  "
      ]
     },
     "execution_count": 128,
     "metadata": {},
     "output_type": "execute_result"
    }
   ],
   "source": [
    "# display the content of DRIFT DATA TEST\n",
    "sea_ice_test.head()"
   ]
  },
  {
   "cell_type": "code",
   "execution_count": 129,
   "metadata": {},
   "outputs": [],
   "source": [
    "x = sea_ice_train.iloc[:, :-1].values\n",
    "y = sea_ice_train.iloc[:, 13].values"
   ]
  },
  {
   "cell_type": "code",
   "execution_count": 130,
   "metadata": {},
   "outputs": [
    {
     "data": {
      "text/plain": [
       "<AxesSubplot:>"
      ]
     },
     "execution_count": 130,
     "metadata": {},
     "output_type": "execute_result"
    },
    {
     "data": {
      "image/png": "[encoded data removed]",
      "text/plain": [
       "<Figure size 648x648 with 2 Axes>"
      ]
     },
     "metadata": {
      "needs_background": "light"
     },
     "output_type": "display_data"
    }
   ],
   "source": [
    "#Data Visualization of DRIFT DATA TRAIN\n",
    "#Building the Correlation matrix\n",
    "f, ax = plt.subplots(1, figsize=(9, 9))\n",
    "sns.heatmap(sea_ice_train.corr())"
   ]
  },
  {
   "cell_type": "code",
   "execution_count": 131,
   "metadata": {},
   "outputs": [],
   "source": [
    "x = sea_ice_test.iloc[:, :-1].values\n",
    "y = sea_ice_test.iloc[:, 8:10].values"
   ]
  },
  {
   "cell_type": "code",
   "execution_count": 132,
   "metadata": {},
   "outputs": [
    {
     "data": {
      "text/plain": [
       "<AxesSubplot:>"
      ]
     },
     "execution_count": 132,
     "metadata": {},
     "output_type": "execute_result"
    },
    {
     "data": {
      "image/png": "[encoded data removed]",
      "text/plain": [
       "<Figure size 648x648 with 2 Axes>"
      ]
     },
     "metadata": {
      "needs_background": "light"
     },
     "output_type": "display_data"
    }
   ],
   "source": [
    "#Data Visualization of DRIFT DATA TEST\n",
    "#Building the Correlation matrix\n",
    "f, ax = plt.subplots(1, figsize=(9, 9))\n",
    "sns.heatmap(sea_ice_test.corr())"
   ]
  },
  {
   "cell_type": "code",
   "execution_count": 133,
   "metadata": {},
   "outputs": [],
   "source": [
    "# Splitting the dataset into the Training set and Validation set\n",
    "sea_ice_no_miss=sea_ice_train.fillna(0)\n",
    "x = sea_ice_no_miss.iloc[:, :-1].values\n",
    "y = sea_ice_no_miss.iloc[:, 13].values\n",
    "from sklearn.model_selection import train_test_split\n",
    "x_train, x_val, y_train, y_val = train_test_split(x, y, test_size = 0.2, random_state = 0)"
   ]
  },
  {
   "cell_type": "code",
   "execution_count": 134,
   "metadata": {},
   "outputs": [
    {
     "data": {
      "text/html": [
       "<div>\n",
       "<style scoped>\n",
       "    .dataframe tbody tr th:only-of-type {\n",
       "        vertical-align: middle;\n",
       "    }\n",
       "\n",
       "    .dataframe tbody tr th {\n",
       "        vertical-align: top;\n",
       "    }\n",
       "\n",
       "    .dataframe thead th {\n",
       "        text-align: right;\n",
       "    }\n",
       "</style>\n",
       "<table border=\"1\" class=\"dataframe\">\n",
       "  <thead>\n",
       "    <tr style=\"text-align: right;\">\n",
       "      <th></th>\n",
       "      <th>year</th>\n",
       "      <th>month</th>\n",
       "      <th>day</th>\n",
       "      <th>doy</th>\n",
       "      <th>x_EASE</th>\n",
       "      <th>y_EASE</th>\n",
       "      <th>u_buoy</th>\n",
       "      <th>v_buoy</th>\n",
       "      <th>id_buoy</th>\n",
       "      <th>u_ERA5</th>\n",
       "      <th>v_ERA5</th>\n",
       "      <th>sic_CDR</th>\n",
       "      <th>h_cs2smos</th>\n",
       "      <th>h_piomas</th>\n",
       "      <th>d2c</th>\n",
       "    </tr>\n",
       "  </thead>\n",
       "  <tbody>\n",
       "    <tr>\n",
       "      <th>0</th>\n",
       "      <td>1979</td>\n",
       "      <td>2</td>\n",
       "      <td>18</td>\n",
       "      <td>49</td>\n",
       "      <td>147.506958</td>\n",
       "      <td>138.582672</td>\n",
       "      <td>-0.797554</td>\n",
       "      <td>1.114740</td>\n",
       "      <td>1906</td>\n",
       "      <td>-6.704156</td>\n",
       "      <td>-0.321260</td>\n",
       "      <td>0.990195</td>\n",
       "      <td>0.0</td>\n",
       "      <td>3.189743</td>\n",
       "      <td>522.523298</td>\n",
       "    </tr>\n",
       "    <tr>\n",
       "      <th>1</th>\n",
       "      <td>1979</td>\n",
       "      <td>2</td>\n",
       "      <td>18</td>\n",
       "      <td>49</td>\n",
       "      <td>146.834778</td>\n",
       "      <td>120.509880</td>\n",
       "      <td>0.643200</td>\n",
       "      <td>0.368754</td>\n",
       "      <td>1913</td>\n",
       "      <td>-6.818630</td>\n",
       "      <td>-0.674205</td>\n",
       "      <td>0.966372</td>\n",
       "      <td>0.0</td>\n",
       "      <td>2.484009</td>\n",
       "      <td>412.767669</td>\n",
       "    </tr>\n",
       "    <tr>\n",
       "      <th>2</th>\n",
       "      <td>1979</td>\n",
       "      <td>2</td>\n",
       "      <td>18</td>\n",
       "      <td>49</td>\n",
       "      <td>130.993561</td>\n",
       "      <td>129.623672</td>\n",
       "      <td>-1.162420</td>\n",
       "      <td>0.243717</td>\n",
       "      <td>1914</td>\n",
       "      <td>-8.825469</td>\n",
       "      <td>1.123955</td>\n",
       "      <td>0.996022</td>\n",
       "      <td>0.0</td>\n",
       "      <td>2.474106</td>\n",
       "      <td>362.547379</td>\n",
       "    </tr>\n",
       "    <tr>\n",
       "      <th>3</th>\n",
       "      <td>1979</td>\n",
       "      <td>2</td>\n",
       "      <td>18</td>\n",
       "      <td>49</td>\n",
       "      <td>147.524719</td>\n",
       "      <td>157.382492</td>\n",
       "      <td>0.919766</td>\n",
       "      <td>0.025784</td>\n",
       "      <td>1918</td>\n",
       "      <td>-1.079951</td>\n",
       "      <td>-1.035410</td>\n",
       "      <td>0.982681</td>\n",
       "      <td>0.0</td>\n",
       "      <td>3.740522</td>\n",
       "      <td>381.025629</td>\n",
       "    </tr>\n",
       "    <tr>\n",
       "      <th>4</th>\n",
       "      <td>1979</td>\n",
       "      <td>2</td>\n",
       "      <td>19</td>\n",
       "      <td>50</td>\n",
       "      <td>147.470963</td>\n",
       "      <td>138.599823</td>\n",
       "      <td>0.380940</td>\n",
       "      <td>1.243485</td>\n",
       "      <td>1906</td>\n",
       "      <td>-2.169171</td>\n",
       "      <td>2.537787</td>\n",
       "      <td>0.990302</td>\n",
       "      <td>0.0</td>\n",
       "      <td>3.188522</td>\n",
       "      <td>521.535334</td>\n",
       "    </tr>\n",
       "  </tbody>\n",
       "</table>\n",
       "</div>"
      ],
      "text/plain": [
       "   year  month  day  doy      x_EASE      y_EASE    u_buoy    v_buoy  id_buoy  \\\n",
       "0  1979      2   18   49  147.506958  138.582672 -0.797554  1.114740     1906   \n",
       "1  1979      2   18   49  146.834778  120.509880  0.643200  0.368754     1913   \n",
       "2  1979      2   18   49  130.993561  129.623672 -1.162420  0.243717     1914   \n",
       "3  1979      2   18   49  147.524719  157.382492  0.919766  0.025784     1918   \n",
       "4  1979      2   19   50  147.470963  138.599823  0.380940  1.243485     1906   \n",
       "\n",
       "     u_ERA5    v_ERA5   sic_CDR  h_cs2smos  h_piomas         d2c  \n",
       "0 -6.704156 -0.321260  0.990195        0.0  3.189743  522.523298  \n",
       "1 -6.818630 -0.674205  0.966372        0.0  2.484009  412.767669  \n",
       "2 -8.825469  1.123955  0.996022        0.0  2.474106  362.547379  \n",
       "3 -1.079951 -1.035410  0.982681        0.0  3.740522  381.025629  \n",
       "4 -2.169171  2.537787  0.990302        0.0  3.188522  521.535334  "
      ]
     },
     "execution_count": 134,
     "metadata": {},
     "output_type": "execute_result"
    }
   ],
   "source": [
    "sea_ice_no_miss.head()"
   ]
  },
  {
   "cell_type": "code",
   "execution_count": 135,
   "metadata": {},
   "outputs": [],
   "source": [
    "#del sea_ice_train['h_cs2smos']\n",
    "#sea_ice_train = sea_ice_train.reset_index()"
   ]
  },
  {
   "cell_type": "code",
   "execution_count": 136,
   "metadata": {},
   "outputs": [
    {
     "data": {
      "text/plain": [
       "LinearRegression()"
      ]
     },
     "execution_count": 136,
     "metadata": {},
     "output_type": "execute_result"
    }
   ],
   "source": [
    "# Fitting Multiple Linear Regression to the Training Set\n",
    "from sklearn.linear_model import LinearRegression\n",
    "regressor = LinearRegression()\n",
    "regressor.fit(x_train, y_train)"
   ]
  },
  {
   "cell_type": "code",
   "execution_count": 137,
   "metadata": {},
   "outputs": [
    {
     "name": "stdout",
     "output_type": "stream",
     "text": [
      "[0.78150107 2.29880977 2.351999   ... 2.70437391 2.46614333 1.3540367 ]\n"
     ]
    }
   ],
   "source": [
    "# Predicting the Test set results\n",
    "y_pred = regressor.predict(x_val)\n",
    "print(y_pred)"
   ]
  },
  {
   "cell_type": "code",
   "execution_count": 138,
   "metadata": {},
   "outputs": [
    {
     "name": "stdout",
     "output_type": "stream",
     "text": [
      "[ 3.50024011e-17  2.66732565e-14  1.16621876e-15 -8.85109029e-16\n",
      "  6.73777732e-17 -2.18415641e-17 -6.56569836e-17  5.63053363e-17\n",
      " -5.52517148e-19 -2.55363121e-17 -1.28980550e-16 -3.02000955e-15\n",
      "  3.52781833e-16  1.00000000e+00]\n"
     ]
    }
   ],
   "source": [
    "# Calculating the Coefficients\n",
    "print(regressor.coef_)"
   ]
  },
  {
   "cell_type": "code",
   "execution_count": 139,
   "metadata": {},
   "outputs": [
    {
     "data": {
      "text/plain": [
       "1.0"
      ]
     },
     "execution_count": 139,
     "metadata": {},
     "output_type": "execute_result"
    }
   ],
   "source": [
    "# Calculating the R squared value\n",
    "from sklearn.metrics import r2_score\n",
    "r2_score(y_val, y_pred)"
   ]
  },
  {
   "cell_type": "markdown",
   "metadata": {},
   "source": [
    "# r2_score of 1.0 means the model is very accurate"
   ]
  },
  {
   "cell_type": "code",
   "execution_count": 123,
   "metadata": {},
   "outputs": [
    {
     "name": "stdout",
     "output_type": "stream",
     "text": [
      "1.952419846274112e-14\n"
     ]
    }
   ],
   "source": [
    "from sklearn.metrics import mean_squared_error\n",
    "\n",
    "ms = mean_squared_error(y_val, y_pred, squared=False)\n",
    "\n",
    "print (ms)"
   ]
  },
  {
   "cell_type": "code",
   "execution_count": 124,
   "metadata": {},
   "outputs": [
    {
     "name": "stdout",
     "output_type": "stream",
     "text": [
      "Root Mean Square Error:\n",
      "\n",
      "1.3972901796957252e-07\n"
     ]
    }
   ],
   "source": [
    "import math\n",
    "RMSE = math.sqrt(ms)\n",
    "print(\"Root Mean Square Error:\\n\")\n",
    "print(RMSE)"
   ]
  },
  {
   "cell_type": "markdown",
   "metadata": {},
   "source": [
    "# Root Mean Square Error of 1.3972901796957252e-07 is very small confirming the accuracy of the regression model"
   ]
  },
  {
   "cell_type": "markdown",
   "metadata": {},
   "source": [
    "# Ui = y_pred and Vi = y_val"
   ]
  },
  {
   "cell_type": "markdown",
   "metadata": {},
   "source": [
    "# MERCI BEAUCOUP!!!!"
   ]
  }
 ],
 "metadata": {
  "kernelspec": {
   "display_name": "Python 3",
   "language": "python",
   "name": "python3"
  },
  "language_info": {
   "codemirror_mode": {
    "name": "ipython",
    "version": 3
   },
   "file_extension": ".py",
   "mimetype": "text/x-python",
   "name": "python",
   "nbconvert_exporter": "python",
   "pygments_lexer": "ipython3",
   "version": "3.7.4"
  }
 },
 "nbformat": 4,
 "nbformat_minor": 5
}
